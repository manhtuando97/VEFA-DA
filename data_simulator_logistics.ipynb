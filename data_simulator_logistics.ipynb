{
 "cells": [
  {
   "cell_type": "code",
   "execution_count": null,
   "metadata": {
    "collapsed": true
   },
   "outputs": [],
   "source": [
    "from numpy import arange, nan, setdiff1d, sqrt\n",
    "from numpy.random import choice, gamma, randint\n",
    "from collections import defaultdict\n",
    "from pandas import DataFrame"
   ]
  },
  {
   "cell_type": "markdown",
   "source": [
    "# AI Powered Business\n",
    "### © 2020-2030 Horia Mărgărit"
   ],
   "metadata": {
    "collapsed": false
   }
  },
  {
   "cell_type": "code",
   "execution_count": null,
   "outputs": [],
   "source": [
    "sq2, sq3 = sqrt([2, 3]).astype('f4')\n",
    "\n",
    "delivery_locations = arange(start=1, stop=71, dtype='i4').tolist()\n",
    "\n",
    "drivers_vehicles = arange(start=1, stop=101, dtype='i4').tolist()\n",
    "\n",
    "n_shifts_daily = randint(low=3, high=6, size=365, dtype='i4').tolist()\n",
    "\n",
    "n_deliveries_daily = [randint(low=4, high=7, size=day, dtype='i4').tolist()\n",
    "                      for day in n_shifts_daily]"
   ],
   "metadata": {
    "collapsed": false,
    "pycharm": {
     "name": "#%%\n"
    }
   }
  },
  {
   "cell_type": "code",
   "execution_count": null,
   "outputs": [],
   "source": [
    "driver_ids = [choice(drivers_vehicles, size=day, replace=False).tolist()\n",
    "              for day in n_shifts_daily]\n",
    "\n",
    "driver_started = defaultdict(lambda: nan)\n",
    "for i, drivers_daily in enumerate(driver_ids, start=1):\n",
    "    for d_id in drivers_daily:\n",
    "        if driver_started[d_id] is nan:\n",
    "            driver_started[d_id] = i\n",
    "        else:\n",
    "            pass\n",
    "del d_id, i, drivers_daily\n",
    "\n",
    "location_ids = list()\n",
    "for deliveries_per_shift in n_deliveries_daily:\n",
    "    day = list()\n",
    "    day_deliveries = choice(delivery_locations, size=sum(deliveries_per_shift), replace=False)\n",
    "    for n_deliveries in deliveries_per_shift:\n",
    "        day.append(choice(day_deliveries, size=n_deliveries, replace=False).tolist())\n",
    "        day_deliveries = setdiff1d(day_deliveries, day[-1])\n",
    "    location_ids.append(day)\n",
    "del n_deliveries, deliveries_per_shift, day_deliveries, day\n",
    "\n",
    "n_previous_deliveries = list()\n",
    "cummulative_delivery_counts = defaultdict(lambda: 0)\n",
    "for drivers_locations in zip(driver_ids, location_ids):\n",
    "    day = list()\n",
    "    for d_id, lids in zip(*drivers_locations):\n",
    "        shift = list()\n",
    "        for l_id in lids:\n",
    "            shift.append(cummulative_delivery_counts[(d_id, l_id)])\n",
    "            cummulative_delivery_counts[(d_id, l_id)] += 1\n",
    "        day.append(shift)\n",
    "    n_previous_deliveries.append(day)\n",
    "del l_id, d_id, lids, shift, day, drivers_locations, cummulative_delivery_counts\n",
    "\n",
    "performance_write_ups = [randint(low=0, high=4, size=day, dtype='i4').tolist()\n",
    "                         for day in n_shifts_daily]\n",
    "\n",
    "truck_maintenance_reqs = [randint(low=0, high=4, size=day, dtype='i4').tolist()\n",
    "                         for day in n_shifts_daily]\n",
    "\n",
    "vehicle_ids = [choice(drivers_vehicles, size=day, replace=False).tolist()\n",
    "              for day in n_shifts_daily]\n",
    "\n",
    "mu_driving_times = [[3. + 4.*pm[0] + 2.*pm[1]**2 for pm in zip(*day)]\n",
    "                    for day in zip(performance_write_ups, truck_maintenance_reqs)]\n",
    "consecutive_driving_time = [[gamma(shape=mu / sq3, scale=sq2, size=(n_deliveries_daily[i][j]+1,)).tolist()\n",
    "                             for j, mu in enumerate(day)]\n",
    "                            for i, day in enumerate(mu_driving_times)]\n",
    "del mu_driving_times"
   ],
   "metadata": {
    "collapsed": false,
    "pycharm": {
     "name": "#%%\n"
    }
   }
  },
  {
   "cell_type": "code",
   "execution_count": null,
   "outputs": [],
   "source": [
    "data = defaultdict(lambda: list())\n",
    "for i, day in enumerate(zip(driver_ids,\n",
    "                            vehicle_ids,\n",
    "                            location_ids,\n",
    "                            n_previous_deliveries,\n",
    "                            performance_write_ups,\n",
    "                            truck_maintenance_reqs,\n",
    "                            consecutive_driving_time)):\n",
    "    for j, shift in enumerate(zip(*day)):\n",
    "        cum_prev_dels = 0\n",
    "        prev_location = 'RS'\n",
    "        for k, delivery in enumerate(zip(shift[2], shift[3], shift[6])):\n",
    "            if k == len(shift[2])-1:\n",
    "                curr_location = 'RS'\n",
    "            elif k == len(shift[2]) // 2:\n",
    "                data['day_index'].append(data['day_index'][-1])\n",
    "                data['driver_id'].append(data['driver_id'][-1])\n",
    "                data['vehicle_id'].append(data['vehicle_id'][-1])\n",
    "                data['is_bad_weather'].append(data['is_bad_weather'][-1])\n",
    "                data['is_bad_traffic'].append(data['is_bad_traffic'][-1])\n",
    "                data['prev_location'].append(data['curr_location'][-1])\n",
    "                data['curr_location'].append(data['curr_location'][-1])\n",
    "                data['n_driver_days'].append(data['n_driver_days'][-1])\n",
    "                data['n_performance_write_ups'].append(data['n_performance_write_ups'][-1])\n",
    "                data['n_truck_maintenance_reqs'].append(data['n_truck_maintenance_reqs'][-1])\n",
    "                data['n_location_penalty'].append(cum_prev_dels / sum(shift[3]) if sum(shift[3]) else 1)\n",
    "                data['n_driving_minutes'].append(0.0)\n",
    "                data['n_lunch_break_minutes'].append(60. - 45 * data['n_location_penalty'][-1])\n",
    "                data['n_delivery_duration_minutes'].append(0.0)\n",
    "                data['n_shift_duration_minutes'].append(sum(data['n_driving_minutes'][-k-1:]) + sum(data['n_lunch_break_minutes'][-k-1:]) + sum(data['n_delivery_duration_minutes'][-k-1:]))\n",
    "            else:\n",
    "                curr_location = '%.2d' % delivery[0]\n",
    "            cum_prev_dels += delivery[1]\n",
    "            data['day_index'].append(i+1)\n",
    "            data['driver_id'].append(shift[0])\n",
    "            data['vehicle_id'].append(shift[1])\n",
    "            data['is_bad_weather'].append(1 if not randint(low=0, high=9, size=1, dtype='i4') else 0)\n",
    "            data['is_bad_traffic'].append((1 if randint(low=0, high=5, size=1, dtype='i4') else 0)\n",
    "                                          if data['is_bad_weather'][-1] else\n",
    "                                          (1 if not randint(low=0, high=3, size=1, dtype='i4') else 0))\n",
    "            data['prev_location'].append(prev_location)\n",
    "            data['curr_location'].append(curr_location)\n",
    "            data['n_driver_days'].append(i+1 - driver_started[shift[0]])\n",
    "            data['n_performance_write_ups'].append(shift[4])\n",
    "            data['n_truck_maintenance_reqs'].append(shift[5])\n",
    "            data['n_location_penalty'].append(cum_prev_dels / sum(shift[3]) if sum(shift[3]) else 1)\n",
    "            data['n_driving_minutes'].append(delivery[2] * (2 if data['is_bad_traffic'][-1] else 1))\n",
    "            data['n_lunch_break_minutes'].append(0.0)\n",
    "            data['n_delivery_duration_minutes'].append(0.0 if curr_location == 'RS' else 60. - 45 * data['n_location_penalty'][-1])\n",
    "            data['n_shift_duration_minutes'].append(sum(data['n_driving_minutes'][-k-1:]) + sum(data['n_lunch_break_minutes'][-k-1:]) + sum(data['n_delivery_duration_minutes'][-k-1:]))\n",
    "            prev_location = curr_location\n",
    "del curr_location, prev_location, cum_prev_dels, k, delivery, j, shift, i, day"
   ],
   "metadata": {
    "collapsed": false,
    "pycharm": {
     "name": "#%%\n"
    }
   }
  },
  {
   "cell_type": "code",
   "execution_count": null,
   "outputs": [],
   "source": [
    "df = DataFrame(data=data)\n",
    "df.to_csv('../data/simulation.csv', index=False, header=True)"
   ],
   "metadata": {
    "collapsed": false,
    "pycharm": {
     "name": "#%%\n"
    }
   }
  }
 ],
 "metadata": {
  "kernelspec": {
   "display_name": "Python 3",
   "language": "python",
   "name": "python3"
  },
  "language_info": {
   "codemirror_mode": {
    "name": "ipython",
    "version": 2
   },
   "file_extension": ".py",
   "mimetype": "text/x-python",
   "name": "python",
   "nbconvert_exporter": "python",
   "pygments_lexer": "ipython2",
   "version": "2.7.6"
  }
 },
 "nbformat": 4,
 "nbformat_minor": 0
}